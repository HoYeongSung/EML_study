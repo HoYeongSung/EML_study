{
 "cells": [
  {
   "cell_type": "code",
   "execution_count": null,
   "id": "39b69bf9",
   "metadata": {},
   "outputs": [],
   "source": [
    "# PI\n",
    "import numpy as np\n",
    "import matplotlib.pyplot as plt\n",
    "from scipy.stats import norm\n",
    "\n",
    "# 가상의 목적 함수 (정답 모름)\n",
    "def f(x): return np.sin(x) * 0.9 + 0.1 * x\n",
    "\n",
    "# 가우시안 프로세스 예측 결과 (가정)\n",
    "x = np.linspace(0, 10, 1000)\n",
    "mu = f(x)              # 예측 평균\n",
    "sigma = 0.2 * np.ones_like(x)  # 일정한 불확실성\n",
    "\n",
    "# 현재까지 최고 성능\n",
    "f_best = 0.7\n",
    "xi = 0.01\n",
    "\n",
    "# PI 계산\n",
    "z = (mu - f_best - xi) / sigma\n",
    "pi = norm.cdf(z)\n",
    "\n",
    "# 시각화\n",
    "plt.figure(figsize=(10, 5))\n",
    "plt.plot(x, mu, label='GP mean (μ)', color='blue')\n",
    "plt.fill_between(x, mu - sigma, mu + sigma, alpha=0.2, label='GP uncertainty (σ)')\n",
    "plt.axhline(f_best + xi, color='gray', linestyle='--', label='Target threshold')\n",
    "\n",
    "plt.plot(x, pi, label='PI(x)', color='red')\n",
    "plt.xlabel('x')\n",
    "plt.ylabel('PI and f(x)')\n",
    "plt.legend()\n",
    "plt.title('Probability of Improvement (PI)')\n",
    "plt.show()"
   ]
  }
 ],
 "metadata": {
  "kernelspec": {
   "display_name": "Python 3",
   "language": "python",
   "name": "python3"
  },
  "language_info": {
   "name": "python",
   "version": "3.12.6"
  }
 },
 "nbformat": 4,
 "nbformat_minor": 5
}
